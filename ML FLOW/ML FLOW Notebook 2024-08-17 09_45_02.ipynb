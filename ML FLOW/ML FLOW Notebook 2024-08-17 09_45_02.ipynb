{
 "cells": [
  {
   "cell_type": "code",
   "execution_count": 0,
   "metadata": {
    "application/vnd.databricks.v1+cell": {
     "cellMetadata": {
      "byteLimit": 2048000,
      "rowLimit": 10000
     },
     "inputWidgets": {},
     "nuid": "9c0c0ee0-0cb7-44fa-bbc7-2fef7d43181e",
     "showTitle": false,
     "title": ""
    }
   },
   "outputs": [
    {
     "output_type": "stream",
     "name": "stdout",
     "output_type": "stream",
     "text": [
      "\u001B[43mNote: you may need to restart the kernel using %restart_python or dbutils.library.restartPython() to use updated packages.\u001B[0m\nCollecting mlflow\n  Obtaining dependency information for mlflow from https://files.pythonhosted.org/packages/19/7a/7d5594ddcaaff7a92caed1d7822cfe52ed01fe06c94b4ad88bcfef579c32/mlflow-2.15.1-py3-none-any.whl.metadata\n  Downloading mlflow-2.15.1-py3-none-any.whl.metadata (29 kB)\nCollecting mlflow-skinny==2.15.1 (from mlflow)\n  Obtaining dependency information for mlflow-skinny==2.15.1 from https://files.pythonhosted.org/packages/ec/a1/3812743e5dd83317d0469a46d737f0ab5c084fecfecc03a1ac8a7e7ec0d8/mlflow_skinny-2.15.1-py3-none-any.whl.metadata\n  Downloading mlflow_skinny-2.15.1-py3-none-any.whl.metadata (30 kB)\nRequirement already satisfied: Flask<4 in /databricks/python3/lib/python3.11/site-packages (from mlflow) (2.2.5)\nCollecting alembic!=1.10.0,<2 (from mlflow)\n  Obtaining dependency information for alembic!=1.10.0,<2 from https://files.pythonhosted.org/packages/df/ed/c884465c33c25451e4a5cd4acad154c29e5341e3214e220e7f3478aa4b0d/alembic-1.13.2-py3-none-any.whl.metadata\n  Downloading alembic-1.13.2-py3-none-any.whl.metadata (7.4 kB)\nCollecting docker<8,>=4.0.0 (from mlflow)\n  Obtaining dependency information for docker<8,>=4.0.0 from https://files.pythonhosted.org/packages/e3/26/57c6fb270950d476074c087527a558ccb6f4436657314bfb6cdf484114c4/docker-7.1.0-py3-none-any.whl.metadata\n  Downloading docker-7.1.0-py3-none-any.whl.metadata (3.8 kB)\nCollecting graphene<4 (from mlflow)\n  Obtaining dependency information for graphene<4 from https://files.pythonhosted.org/packages/24/70/96f6027cdfc9bb89fc07627b615cb43fb1c443c93498412beaeaf157e9f1/graphene-3.3-py2.py3-none-any.whl.metadata\n  Downloading graphene-3.3-py2.py3-none-any.whl.metadata (7.7 kB)\nRequirement already satisfied: markdown<4,>=3.3 in /databricks/python3/lib/python3.11/site-packages (from mlflow) (3.4.1)\nRequirement already satisfied: matplotlib<4 in /databricks/python3/lib/python3.11/site-packages (from mlflow) (3.7.2)\nRequirement already satisfied: numpy<2 in /databricks/python3/lib/python3.11/site-packages (from mlflow) (1.23.5)\nRequirement already satisfied: pandas<3 in /databricks/python3/lib/python3.11/site-packages (from mlflow) (1.5.3)\nRequirement already satisfied: pyarrow<16,>=4.0.0 in /databricks/python3/lib/python3.11/site-packages (from mlflow) (14.0.1)\nCollecting querystring-parser<2 (from mlflow)\n  Obtaining dependency information for querystring-parser<2 from https://files.pythonhosted.org/packages/88/6b/572b2590fd55114118bf08bde63c0a421dcc82d593700f3e2ad89908a8a9/querystring_parser-1.2.4-py2.py3-none-any.whl.metadata\n  Downloading querystring_parser-1.2.4-py2.py3-none-any.whl.metadata (559 bytes)\nRequirement already satisfied: scikit-learn<2 in /databricks/python3/lib/python3.11/site-packages (from mlflow) (1.3.0)\nRequirement already satisfied: scipy<2 in /databricks/python3/lib/python3.11/site-packages (from mlflow) (1.11.1)\nRequirement already satisfied: sqlalchemy<3,>=1.4.0 in /databricks/python3/lib/python3.11/site-packages (from mlflow) (1.4.39)\nRequirement already satisfied: Jinja2<4,>=2.11 in /databricks/python3/lib/python3.11/site-packages (from mlflow) (3.1.2)\nRequirement already satisfied: gunicorn<23 in /databricks/python3/lib/python3.11/site-packages (from mlflow) (20.1.0)\nRequirement already satisfied: cachetools<6,>=5.0.0 in /databricks/python3/lib/python3.11/site-packages (from mlflow-skinny==2.15.1->mlflow) (5.3.3)\nRequirement already satisfied: click<9,>=7.0 in /databricks/python3/lib/python3.11/site-packages (from mlflow-skinny==2.15.1->mlflow) (8.0.4)\nRequirement already satisfied: cloudpickle<4 in /databricks/python3/lib/python3.11/site-packages (from mlflow-skinny==2.15.1->mlflow) (2.2.1)\nRequirement already satisfied: databricks-sdk<1,>=0.20.0 in /databricks/python3/lib/python3.11/site-packages (from mlflow-skinny==2.15.1->mlflow) (0.20.0)\nRequirement already satisfied: entrypoints<1 in /databricks/python3/lib/python3.11/site-packages (from mlflow-skinny==2.15.1->mlflow) (0.4)\nRequirement already satisfied: gitpython<4,>=3.1.9 in /databricks/python3/lib/python3.11/site-packages (from mlflow-skinny==2.15.1->mlflow) (3.1.27)\nRequirement already satisfied: importlib-metadata!=4.7.0,<8,>=3.7.0 in /databricks/python3/lib/python3.11/site-packages (from mlflow-skinny==2.15.1->mlflow) (6.0.0)\nCollecting opentelemetry-api<3,>=1.9.0 (from mlflow-skinny==2.15.1->mlflow)\n  Obtaining dependency information for opentelemetry-api<3,>=1.9.0 from https://files.pythonhosted.org/packages/e3/a7/6322d1d7a1fb926e8b99208c27730f21217da2f1e0e11dab48a78a0427a4/opentelemetry_api-1.26.0-py3-none-any.whl.metadata\n  Downloading opentelemetry_api-1.26.0-py3-none-any.whl.metadata (1.4 kB)\nCollecting opentelemetry-sdk<3,>=1.9.0 (from mlflow-skinny==2.15.1->mlflow)\n  Obtaining dependency information for opentelemetry-sdk<3,>=1.9.0 from https://files.pythonhosted.org/packages/92/f1/a9b550d0f9c049653dd2eab45cecf8fe4baa9795ed143d87834056ffabaf/opentelemetry_sdk-1.26.0-py3-none-any.whl.metadata\n  Downloading opentelemetry_sdk-1.26.0-py3-none-any.whl.metadata (1.5 kB)\nRequirement already satisfied: packaging<25 in /databricks/python3/lib/python3.11/site-packages (from mlflow-skinny==2.15.1->mlflow) (23.2)\nRequirement already satisfied: protobuf<6,>=3.12.0 in /databricks/python3/lib/python3.11/site-packages (from mlflow-skinny==2.15.1->mlflow) (4.24.1)\nRequirement already satisfied: pytz<2025 in /databricks/python3/lib/python3.11/site-packages (from mlflow-skinny==2.15.1->mlflow) (2022.7)\nRequirement already satisfied: pyyaml<7,>=5.1 in /databricks/python3/lib/python3.11/site-packages (from mlflow-skinny==2.15.1->mlflow) (6.0)\nRequirement already satisfied: requests<3,>=2.17.3 in /databricks/python3/lib/python3.11/site-packages (from mlflow-skinny==2.15.1->mlflow) (2.31.0)\nRequirement already satisfied: sqlparse<1,>=0.4.0 in /databricks/python3/lib/python3.11/site-packages (from mlflow-skinny==2.15.1->mlflow) (0.4.2)\nRequirement already satisfied: Mako in /databricks/python3/lib/python3.11/site-packages (from alembic!=1.10.0,<2->mlflow) (1.2.0)\nRequirement already satisfied: typing-extensions>=4 in /databricks/python3/lib/python3.11/site-packages (from alembic!=1.10.0,<2->mlflow) (4.10.0)\nRequirement already satisfied: urllib3>=1.26.0 in /databricks/python3/lib/python3.11/site-packages (from docker<8,>=4.0.0->mlflow) (1.26.16)\nRequirement already satisfied: Werkzeug>=2.2.2 in /databricks/python3/lib/python3.11/site-packages (from Flask<4->mlflow) (2.2.3)\nRequirement already satisfied: itsdangerous>=2.0 in /databricks/python3/lib/python3.11/site-packages (from Flask<4->mlflow) (2.0.1)\nCollecting graphql-core<3.3,>=3.1 (from graphene<4->mlflow)\n  Obtaining dependency information for graphql-core<3.3,>=3.1 from https://files.pythonhosted.org/packages/f8/39/e5143e7ec70939d2076c1165ae9d4a3815597019c4d797b7f959cf778600/graphql_core-3.2.3-py3-none-any.whl.metadata\n  Downloading graphql_core-3.2.3-py3-none-any.whl.metadata (10 kB)\nCollecting graphql-relay<3.3,>=3.1 (from graphene<4->mlflow)\n  Obtaining dependency information for graphql-relay<3.3,>=3.1 from https://files.pythonhosted.org/packages/74/16/a4cf06adbc711bd364a73ce043b0b08d8fa5aae3df11b6ee4248bcdad2e0/graphql_relay-3.2.0-py3-none-any.whl.metadata\n  Downloading graphql_relay-3.2.0-py3-none-any.whl.metadata (12 kB)\nCollecting aniso8601<10,>=8 (from graphene<4->mlflow)\n  Obtaining dependency information for aniso8601<10,>=8 from https://files.pythonhosted.org/packages/e3/04/e97c12dc034791d7b504860acfcdd2963fa21ae61eaca1c9d31245f812c3/aniso8601-9.0.1-py2.py3-none-any.whl.metadata\n  Downloading aniso8601-9.0.1-py2.py3-none-any.whl.metadata (23 kB)\nRequirement already satisfied: setuptools>=3.0 in /databricks/python3/lib/python3.11/site-packages (from gunicorn<23->mlflow) (68.0.0)\nRequirement already satisfied: MarkupSafe>=2.0 in /databricks/python3/lib/python3.11/site-packages (from Jinja2<4,>=2.11->mlflow) (2.1.1)\nRequirement already satisfied: contourpy>=1.0.1 in /databricks/python3/lib/python3.11/site-packages (from matplotlib<4->mlflow) (1.0.5)\nRequirement already satisfied: cycler>=0.10 in /databricks/python3/lib/python3.11/site-packages (from matplotlib<4->mlflow) (0.11.0)\nRequirement already satisfied: fonttools>=4.22.0 in /databricks/python3/lib/python3.11/site-packages (from matplotlib<4->mlflow) (4.25.0)\nRequirement already satisfied: kiwisolver>=1.0.1 in /databricks/python3/lib/python3.11/site-packages (from matplotlib<4->mlflow) (1.4.4)\nRequirement already satisfied: pillow>=6.2.0 in /databricks/python3/lib/python3.11/site-packages (from matplotlib<4->mlflow) (9.4.0)\nRequirement already satisfied: pyparsing<3.1,>=2.3.1 in /databricks/python3/lib/python3.11/site-packages (from matplotlib<4->mlflow) (3.0.9)\nRequirement already satisfied: python-dateutil>=2.7 in /databricks/python3/lib/python3.11/site-packages (from matplotlib<4->mlflow) (2.8.2)\nRequirement already satisfied: six in /usr/lib/python3/dist-packages (from querystring-parser<2->mlflow) (1.16.0)\nRequirement already satisfied: joblib>=1.1.1 in /databricks/python3/lib/python3.11/site-packages (from scikit-learn<2->mlflow) (1.2.0)\nRequirement already satisfied: threadpoolctl>=2.0.0 in /databricks/python3/lib/python3.11/site-packages (from scikit-learn<2->mlflow) (2.2.0)\nRequirement already satisfied: greenlet!=0.4.17 in /databricks/python3/lib/python3.11/site-packages (from sqlalchemy<3,>=1.4.0->mlflow) (2.0.1)\nRequirement already satisfied: google-auth~=2.0 in /databricks/python3/lib/python3.11/site-packages (from databricks-sdk<1,>=0.20.0->mlflow-skinny==2.15.1->mlflow) (2.21.0)\nRequirement already satisfied: gitdb<5,>=4.0.1 in /databricks/python3/lib/python3.11/site-packages (from gitpython<4,>=3.1.9->mlflow-skinny==2.15.1->mlflow) (4.0.11)\nRequirement already satisfied: zipp>=0.5 in /databricks/python3/lib/python3.11/site-packages (from importlib-metadata!=4.7.0,<8,>=3.7.0->mlflow-skinny==2.15.1->mlflow) (3.11.0)\nCollecting deprecated>=1.2.6 (from opentelemetry-api<3,>=1.9.0->mlflow-skinny==2.15.1->mlflow)\n  Obtaining dependency information for deprecated>=1.2.6 from https://files.pythonhosted.org/packages/20/8d/778b7d51b981a96554f29136cd59ca7880bf58094338085bcf2a979a0e6a/Deprecated-1.2.14-py2.py3-none-any.whl.metadata\n  Downloading Deprecated-1.2.14-py2.py3-none-any.whl.metadata (5.4 kB)\nCollecting opentelemetry-semantic-conventions==0.47b0 (from opentelemetry-sdk<3,>=1.9.0->mlflow-skinny==2.15.1->mlflow)\n  Obtaining dependency information for opentelemetry-semantic-conventions==0.47b0 from https://files.pythonhosted.org/packages/00/c2/ca5cef8e4cd8eec5a95deed95ec3f6005e499fd9d17ca08731ced03a6921/opentelemetry_semantic_conventions-0.47b0-py3-none-any.whl.metadata\n  Downloading opentelemetry_semantic_conventions-0.47b0-py3-none-any.whl.metadata (2.4 kB)\nRequirement already satisfied: charset-normalizer<4,>=2 in /databricks/python3/lib/python3.11/site-packages (from requests<3,>=2.17.3->mlflow-skinny==2.15.1->mlflow) (2.0.4)\nRequirement already satisfied: idna<4,>=2.5 in /databricks/python3/lib/python3.11/site-packages (from requests<3,>=2.17.3->mlflow-skinny==2.15.1->mlflow) (3.4)\nRequirement already satisfied: certifi>=2017.4.17 in /databricks/python3/lib/python3.11/site-packages (from requests<3,>=2.17.3->mlflow-skinny==2.15.1->mlflow) (2023.7.22)\nRequirement already satisfied: wrapt<2,>=1.10 in /databricks/python3/lib/python3.11/site-packages (from deprecated>=1.2.6->opentelemetry-api<3,>=1.9.0->mlflow-skinny==2.15.1->mlflow) (1.14.1)\nRequirement already satisfied: smmap<6,>=3.0.1 in /databricks/python3/lib/python3.11/site-packages (from gitdb<5,>=4.0.1->gitpython<4,>=3.1.9->mlflow-skinny==2.15.1->mlflow) (5.0.0)\nRequirement already satisfied: pyasn1-modules>=0.2.1 in /databricks/python3/lib/python3.11/site-packages (from google-auth~=2.0->databricks-sdk<1,>=0.20.0->mlflow-skinny==2.15.1->mlflow) (0.2.8)\nRequirement already satisfied: rsa<5,>=3.1.4 in /databricks/python3/lib/python3.11/site-packages (from google-auth~=2.0->databricks-sdk<1,>=0.20.0->mlflow-skinny==2.15.1->mlflow) (4.9)\nRequirement already satisfied: pyasn1<0.5.0,>=0.4.6 in /databricks/python3/lib/python3.11/site-packages (from pyasn1-modules>=0.2.1->google-auth~=2.0->databricks-sdk<1,>=0.20.0->mlflow-skinny==2.15.1->mlflow) (0.4.8)\nDownloading mlflow-2.15.1-py3-none-any.whl (26.3 MB)\n\u001B[?25l   \u001B[90m━━━━━━━━━━━━━━━━━━━━━━━━━━━━━━━━━━━━━━━━\u001B[0m \u001B[32m0.0/26.3 MB\u001B[0m \u001B[31m?\u001B[0m eta \u001B[36m-:--:--\u001B[0m\n\u001B[2K   \u001B[90m━━━━━━━━━━━━━━━━━━━━━━━━━━━━━━━━━━━━━━━━\u001B[0m \u001B[32m0.2/26.3 MB\u001B[0m \u001B[31m5.6 MB/s\u001B[0m eta \u001B[36m0:00:05\u001B[0m\n\u001B[2K   \u001B[91m━\u001B[0m\u001B[90m╺\u001B[0m\u001B[90m━━━━━━━━━━━━━━━━━━━━━━━━━━━━━━━━━━━━━━\u001B[0m \u001B[32m0.7/26.3 MB\u001B[0m \u001B[31m10.1 MB/s\u001B[0m eta \u001B[36m0:00:03\u001B[0m\n\u001B[2K   \u001B[91m━━━\u001B[0m\u001B[90m╺\u001B[0m\u001B[90m━━━━━━━━━━━━━━━━━━━━━━━━━━━━━━━━━━━━\u001B[0m \u001B[32m2.0/26.3 MB\u001B[0m \u001B[31m19.4 MB/s\u001B[0m eta \u001B[36m0:00:02\u001B[0m\n\u001B[2K   \u001B[91m━━━━━━━━\u001B[0m\u001B[91m╸\u001B[0m\u001B[90m━━━━━━━━━━━━━━━━━━━━━━━━━━━━━━━\u001B[0m \u001B[32m5.8/26.3 MB\u001B[0m \u001B[31m42.1 MB/s\u001B[0m eta \u001B[36m0:00:01\u001B[0m\n\u001B[2K   \u001B[91m━━━━━━━━━━━━━━━\u001B[0m\u001B[91m╸\u001B[0m\u001B[90m━━━━━━━━━━━━━━━━━━━━━━━━\u001B[0m \u001B[32m10.3/26.3 MB\u001B[0m \u001B[31m59.9 MB/s\u001B[0m eta \u001B[36m0:00:01\u001B[0m\n\u001B[2K   \u001B[91m━━━━━━━━━━━━━━━━━━━━━━━\u001B[0m\u001B[91m╸\u001B[0m\u001B[90m━━━━━━━━━━━━━━━━\u001B[0m \u001B[32m15.6/26.3 MB\u001B[0m \u001B[31m136.5 MB/s\u001B[0m eta \u001B[36m0:00:01\u001B[0m\n\u001B[2K   \u001B[91m━━━━━━━━━━━━━━━━━━━━━━━━━━━━━━━━\u001B[0m\u001B[91m╸\u001B[0m\u001B[90m━━━━━━━\u001B[0m \u001B[32m21.4/26.3 MB\u001B[0m \u001B[31m169.3 MB/s\u001B[0m eta \u001B[36m0:00:01\u001B[0m\n\u001B[2K   \u001B[91m━━━━━━━━━━━━━━━━━━━━━━━━━━━━━━━━━━━━━━━\u001B[0m\u001B[91m╸\u001B[0m \u001B[32m26.3/26.3 MB\u001B[0m \u001B[31m167.6 MB/s\u001B[0m eta \u001B[36m0:00:01\u001B[0m\n\u001B[2K   \u001B[91m━━━━━━━━━━━━━━━━━━━━━━━━━━━━━━━━━━━━━━━\u001B[0m\u001B[91m╸\u001B[0m \u001B[32m26.3/26.3 MB\u001B[0m \u001B[31m167.6 MB/s\u001B[0m eta \u001B[36m0:00:01\u001B[0m\n\u001B[2K   \u001B[91m━━━━━━━━━━━━━━━━━━━━━━━━━━━━━━━━━━━━━━━\u001B[0m\u001B[91m╸\u001B[0m \u001B[32m26.3/26.3 MB\u001B[0m \u001B[31m167.6 MB/s\u001B[0m eta \u001B[36m0:00:01\u001B[0m\n\u001B[2K   \u001B[90m━━━━━━━━━━━━━━━━━━━━━━━━━━━━━━━━━━━━━━━━\u001B[0m \u001B[32m26.3/26.3 MB\u001B[0m \u001B[31m56.3 MB/s\u001B[0m eta \u001B[36m0:00:00\u001B[0m\n\u001B[?25hDownloading mlflow_skinny-2.15.1-py3-none-any.whl (5.5 MB)\n\u001B[?25l   \u001B[90m━━━━━━━━━━━━━━━━━━━━━━━━━━━━━━━━━━━━━━━━\u001B[0m \u001B[32m0.0/5.5 MB\u001B[0m \u001B[31m?\u001B[0m eta \u001B[36m-:--:--\u001B[0m\n\u001B[2K   \u001B[91m━━━━━━━━━━━━━━━━━━━━━━━━━━━━━━━━━━━━━━\u001B[0m\u001B[90m╺\u001B[0m\u001B[90m━\u001B[0m \u001B[32m5.2/5.5 MB\u001B[0m \u001B[31m157.7 MB/s\u001B[0m eta \u001B[36m0:00:01\u001B[0m\n\u001B[2K   \u001B[90m━━━━━━━━━━━━━━━━━━━━━━━━━━━━━━━━━━━━━━━━\u001B[0m \u001B[32m5.5/5.5 MB\u001B[0m \u001B[31m94.2 MB/s\u001B[0m eta \u001B[36m0:00:00\u001B[0m\n\u001B[?25hDownloading alembic-1.13.2-py3-none-any.whl (232 kB)\n\u001B[?25l   \u001B[90m━━━━━━━━━━━━━━━━━━━━━━━━━━━━━━━━━━━━━━━━\u001B[0m \u001B[32m0.0/233.0 kB\u001B[0m \u001B[31m?\u001B[0m eta \u001B[36m-:--:--\u001B[0m\n\u001B[2K   \u001B[90m━━━━━━━━━━━━━━━━━━━━━━━━━━━━━━━━━━━━━━━━\u001B[0m \u001B[32m233.0/233.0 kB\u001B[0m \u001B[31m52.9 MB/s\u001B[0m eta \u001B[36m0:00:00\u001B[0m\n\u001B[?25hDownloading docker-7.1.0-py3-none-any.whl (147 kB)\n\u001B[?25l   \u001B[90m━━━━━━━━━━━━━━━━━━━━━━━━━━━━━━━━━━━━━━━━\u001B[0m \u001B[32m0.0/147.8 kB\u001B[0m \u001B[31m?\u001B[0m eta \u001B[36m-:--:--\u001B[0m\n\u001B[2K   \u001B[90m━━━━━━━━━━━━━━━━━━━━━━━━━━━━━━━━━━━━━━━━\u001B[0m \u001B[32m147.8/147.8 kB\u001B[0m \u001B[31m25.9 MB/s\u001B[0m eta \u001B[36m0:00:00\u001B[0m\n\u001B[?25hDownloading graphene-3.3-py2.py3-none-any.whl (128 kB)\n\u001B[?25l   \u001B[90m━━━━━━━━━━━━━━━━━━━━━━━━━━━━━━━━━━━━━━━━\u001B[0m \u001B[32m0.0/128.2 kB\u001B[0m \u001B[31m?\u001B[0m eta \u001B[36m-:--:--\u001B[0m\n\u001B[2K   \u001B[90m━━━━━━━━━━━━━━━━━━━━━━━━━━━━━━━━━━━━━━━━\u001B[0m \u001B[32m128.2/128.2 kB\u001B[0m \u001B[31m30.8 MB/s\u001B[0m eta \u001B[36m0:00:00\u001B[0m\n\u001B[?25hDownloading querystring_parser-1.2.4-py2.py3-none-any.whl (7.9 kB)\nDownloading aniso8601-9.0.1-py2.py3-none-any.whl (52 kB)\n\u001B[?25l   \u001B[90m━━━━━━━━━━━━━━━━━━━━━━━━━━━━━━━━━━━━━━━━\u001B[0m \u001B[32m0.0/52.8 kB\u001B[0m \u001B[31m?\u001B[0m eta \u001B[36m-:--:--\u001B[0m\n\u001B[2K   \u001B[90m━━━━━━━━━━━━━━━━━━━━━━━━━━━━━━━━━━━━━━━━\u001B[0m \u001B[32m52.8/52.8 kB\u001B[0m \u001B[31m14.2 MB/s\u001B[0m eta \u001B[36m0:00:00\u001B[0m\n\u001B[?25hDownloading graphql_core-3.2.3-py3-none-any.whl (202 kB)\n\u001B[?25l   \u001B[90m━━━━━━━━━━━━━━━━━━━━━━━━━━━━━━━━━━━━━━━━\u001B[0m \u001B[32m0.0/202.9 kB\u001B[0m \u001B[31m?\u001B[0m eta \u001B[36m-:--:--\u001B[0m\n\u001B[2K   \u001B[90m━━━━━━━━━━━━━━━━━━━━━━━━━━━━━━━━━━━━━━━━\u001B[0m \u001B[32m202.9/202.9 kB\u001B[0m \u001B[31m39.6 MB/s\u001B[0m eta \u001B[36m0:00:00\u001B[0m\n\u001B[?25hDownloading graphql_relay-3.2.0-py3-none-any.whl (16 kB)\nDownloading opentelemetry_api-1.26.0-py3-none-any.whl (61 kB)\n\u001B[?25l   \u001B[90m━━━━━━━━━━━━━━━━━━━━━━━━━━━━━━━━━━━━━━━━\u001B[0m \u001B[32m0.0/61.5 kB\u001B[0m \u001B[31m?\u001B[0m eta \u001B[36m-:--:--\u001B[0m\n\u001B[2K   \u001B[90m━━━━━━━━━━━━━━━━━━━━━━━━━━━━━━━━━━━━━━━━\u001B[0m \u001B[32m61.5/61.5 kB\u001B[0m \u001B[31m15.9 MB/s\u001B[0m eta \u001B[36m0:00:00\u001B[0m\n\u001B[?25hDownloading opentelemetry_sdk-1.26.0-py3-none-any.whl (109 kB)\n\u001B[?25l   \u001B[90m━━━━━━━━━━━━━━━━━━━━━━━━━━━━━━━━━━━━━━━━\u001B[0m \u001B[32m0.0/109.5 kB\u001B[0m \u001B[31m?\u001B[0m eta \u001B[36m-:--:--\u001B[0m\n\u001B[2K   \u001B[90m━━━━━━━━━━━━━━━━━━━━━━━━━━━━━━━━━━━━━━━━\u001B[0m \u001B[32m109.5/109.5 kB\u001B[0m \u001B[31m28.9 MB/s\u001B[0m eta \u001B[36m0:00:00\u001B[0m\n\u001B[?25hDownloading opentelemetry_semantic_conventions-0.47b0-py3-none-any.whl (138 kB)\n\u001B[?25l   \u001B[90m━━━━━━━━━━━━━━━━━━━━━━━━━━━━━━━━━━━━━━━━\u001B[0m \u001B[32m0.0/138.0 kB\u001B[0m \u001B[31m?\u001B[0m eta \u001B[36m-:--:--\u001B[0m\n\u001B[2K   \u001B[90m━━━━━━━━━━━━━━━━━━━━━━━━━━━━━━━━━━━━━━━━\u001B[0m \u001B[32m138.0/138.0 kB\u001B[0m \u001B[31m32.8 MB/s\u001B[0m eta \u001B[36m0:00:00\u001B[0m\n\u001B[?25hDownloading Deprecated-1.2.14-py2.py3-none-any.whl (9.6 kB)\nInstalling collected packages: aniso8601, querystring-parser, graphql-core, deprecated, opentelemetry-api, graphql-relay, docker, alembic, opentelemetry-semantic-conventions, graphene, opentelemetry-sdk, mlflow-skinny, mlflow\n  Attempting uninstall: mlflow-skinny\n    Found existing installation: mlflow-skinny 2.11.3\n    Not uninstalling mlflow-skinny at /databricks/python3/lib/python3.11/site-packages, outside environment /local_disk0/.ephemeral_nfs/envs/pythonEnv-fa40948b-a162-4646-b573-6f8de56a39a2\n    Can't uninstall 'mlflow-skinny'. No files were found to uninstall.\nSuccessfully installed alembic-1.13.2 aniso8601-9.0.1 deprecated-1.2.14 docker-7.1.0 graphene-3.3 graphql-core-3.2.3 graphql-relay-3.2.0 mlflow-2.15.1 mlflow-skinny-2.15.1 opentelemetry-api-1.26.0 opentelemetry-sdk-1.26.0 opentelemetry-semantic-conventions-0.47b0 querystring-parser-1.2.4\n\u001B[43mNote: you may need to restart the kernel using %restart_python or dbutils.library.restartPython() to use updated packages.\u001B[0m\n"
     ]
    }
   ],
   "source": [
    "pip install mlflow"
   ]
  },
  {
   "cell_type": "code",
   "execution_count": 0,
   "metadata": {
    "application/vnd.databricks.v1+cell": {
     "cellMetadata": {
      "byteLimit": 2048000,
      "rowLimit": 10000
     },
     "inputWidgets": {},
     "nuid": "0c50d63f-efb0-4177-b0c0-3ac1f9a21359",
     "showTitle": false,
     "title": ""
    }
   },
   "outputs": [],
   "source": [
    "#Restart python kernal to use updated packages\n",
    "dbutils.library.restartPython()\n"
   ]
  },
  {
   "cell_type": "code",
   "execution_count": 0,
   "metadata": {
    "application/vnd.databricks.v1+cell": {
     "cellMetadata": {
      "byteLimit": 2048000,
      "rowLimit": 10000
     },
     "inputWidgets": {},
     "nuid": "b075566f-ad66-4281-9e33-5e0d82e981e8",
     "showTitle": false,
     "title": ""
    }
   },
   "outputs": [],
   "source": [
    "import mlflow\n",
    "import mlflow.sklearn\n",
    "import pandas as pd\n",
    "import matplotlib.pyplot as plt\n",
    "\n",
    "from numpy import savetxt\n",
    "from sklearn.model_selection import train_test_split\n",
    "from sklearn.datasets import load_diabetes\n",
    "\n",
    "from sklearn.ensemble import RandomForestRegressor\n",
    "from sklearn.metrics import mean_squared_error"
   ]
  },
  {
   "cell_type": "code",
   "execution_count": 0,
   "metadata": {
    "application/vnd.databricks.v1+cell": {
     "cellMetadata": {
      "byteLimit": 2048000,
      "rowLimit": 10000
     },
     "inputWidgets": {},
     "nuid": "178c568c-59aa-43a7-a8e8-06689d676a90",
     "showTitle": false,
     "title": ""
    }
   },
   "outputs": [
    {
     "output_type": "stream",
     "name": "stdout",
     "output_type": "stream",
     "text": [
      "Package                            Version\n---------------------------------- -------------\nabsl-py                            1.0.0\naccelerate                         0.30.1\naiohttp                            3.8.5\naiohttp-cors                       0.7.0\naiosignal                          1.2.0\nalembic                            1.13.2\naniso8601                          9.0.1\nanyio                              3.5.0\nargon2-cffi                        21.3.0\nargon2-cffi-bindings               21.2.0\nastor                              0.8.1\nasttokens                          2.0.5\nastunparse                         1.6.3\nasync-timeout                      4.0.2\nattrs                              22.1.0\naudioread                          3.0.1\nazure-core                         1.30.1\nazure-cosmos                       4.3.1\nazure-identity                     1.16.0\nazure-storage-blob                 12.19.1\nazure-storage-file-datalake        12.14.0\nbackcall                           0.2.0\nbcrypt                             3.2.0\nbeautifulsoup4                     4.12.2\nblack                              23.3.0\nbleach                             4.1.0\nblinker                            1.4\nblis                               0.7.11\nboto3                              1.34.39\nbotocore                           1.34.39\nBrotli                             1.0.9\ncachetools                         5.3.3\ncatalogue                          2.0.10\ncategory-encoders                  2.6.3\ncertifi                            2023.7.22\ncffi                               1.15.1\nchardet                            4.0.0\ncharset-normalizer                 2.0.4\ncircuitbreaker                     1.4.0\nclick                              8.0.4\ncloudpathlib                       0.16.0\ncloudpickle                        2.2.1\ncmdstanpy                          1.2.2\ncolorful                           0.5.6\ncomm                               0.1.2\nconfection                         0.1.4\nconfigparser                       5.2.0\ncontourpy                          1.0.5\ncryptography                       41.0.3\ncycler                             0.11.0\ncymem                              2.0.8\nCython                             0.29.32\ndacite                             1.8.1\ndatabricks-automl-runtime          0.2.21\ndatabricks-feature-engineering     0.5.0\ndatabricks-sdk                     0.20.0\ndataclasses-json                   0.6.6\ndatasets                           2.19.1\ndbl-tempo                          0.1.26\ndbus-python                        1.2.18\ndebugpy                            1.6.7\ndecorator                          5.1.1\ndeepspeed                          0.14.0\ndefusedxml                         0.7.1\nDeprecated                         1.2.14\ndill                               0.3.6\ndiskcache                          5.6.3\ndistlib                            0.3.8\ndistro                             1.7.0\ndistro-info                        1.1+ubuntu0.2\ndm-tree                            0.1.8\ndocker                             7.1.0\nentrypoints                        0.4\nevaluate                           0.4.2\nexecuting                          0.8.3\nfacets-overview                    1.1.1\nFarama-Notifications               0.0.4\nfastjsonschema                     2.19.1\nfasttext                           0.9.2\nfilelock                           3.13.4\nFlask                              2.2.5\nflatbuffers                        24.3.25\nfonttools                          4.25.0\nfrozenlist                         1.3.3\nfsspec                             2023.5.0\nfuture                             0.18.3\ngast                               0.4.0\ngitdb                              4.0.11\nGitPython                          3.1.27\ngoogle-api-core                    2.18.0\ngoogle-auth                        2.21.0\ngoogle-auth-oauthlib               1.0.0\ngoogle-cloud-core                  2.4.1\ngoogle-cloud-storage               2.10.0\ngoogle-crc32c                      1.5.0\ngoogle-pasta                       0.2.0\ngoogle-resumable-media             2.7.0\ngoogleapis-common-protos           1.63.0\ngraphene                           3.3\ngraphql-core                       3.2.3\ngraphql-relay                      3.2.0\ngreenlet                           2.0.1\ngrpcio                             1.60.0\ngrpcio-status                      1.60.0\ngunicorn                           20.1.0\ngviz-api                           1.10.0\ngymnasium                          0.28.1\nh11                                0.14.0\nh5py                               3.10.0\nhjson                              3.1.0\nholidays                           0.45\nhorovod                            0.28.1+db1\nhtmlmin                            0.1.12\nhttpcore                           1.0.5\nhttplib2                           0.20.2\nhttpx                              0.27.0\nhuggingface-hub                    0.21.2\nidna                               3.4\nImageHash                          4.3.1\nimageio                            2.31.1\nimbalanced-learn                   0.11.0\nimportlib-metadata                 6.0.0\nimportlib_resources                6.4.0\nipyflow-core                       0.0.198\nipykernel                          6.25.1\nipython                            8.15.0\nipython-genutils                   0.2.0\nipywidgets                         7.7.2\nisodate                            0.6.1\nitsdangerous                       2.0.1\njax-jumpy                          1.0.0\njedi                               0.18.1\njeepney                            0.7.1\nJinja2                             3.1.2\njmespath                           0.10.0\njoblib                             1.2.0\njoblibspark                        0.5.1\njsonpatch                          1.33\njsonpointer                        2.4\njsonschema                         4.17.3\njupyter_client                     7.4.9\njupyter_core                       5.3.0\njupyter-server                     1.23.4\njupyterlab-pygments                0.1.2\nkeras                              3.1.1\nkeyring                            23.5.0\nkiwisolver                         1.4.4\nlangchain                          0.1.20\nlangchain-community                0.0.38\nlangchain-core                     0.1.52\nlangchain-text-splitters           0.0.2\nlangcodes                          3.4.0\nlangsmith                          0.1.63\nlanguage_data                      1.2.0\nlaunchpadlib                       1.10.16\nlazr.restfulclient                 0.14.4\nlazr.uri                           1.0.6\nlazy_loader                        0.2\nlibclang                           15.0.6.1\nlibrosa                            0.10.1\nlightgbm                           4.3.0\nlinkify-it-py                      2.0.0\nllvmlite                           0.40.0\nlxml                               4.9.2\nlz4                                4.3.2\nMako                               1.2.0\nmarisa-trie                        1.1.1\nMarkdown                           3.4.1\nmarkdown-it-py                     2.2.0\nMarkupSafe                         2.1.1\nmarshmallow                        3.21.2\nmatplotlib                         3.7.2\nmatplotlib-inline                  0.1.6\nmdit-py-plugins                    0.3.0\nmdurl                              0.1.0\nmemray                             1.12.0\nmistune                            0.8.4\nml-dtypes                          0.3.2\nmlflow                             2.15.1\nmlflow-skinny                      2.15.1\nmore-itertools                     8.10.0\nmosaicml-streaming                 0.7.4\nmpmath                             1.3.0\nmsal                               1.28.0\nmsal-extensions                    1.1.0\nmsgpack                            1.0.8\nmultidict                          6.0.2\nmultimethod                        1.11.2\nmultiprocess                       0.70.14\nmurmurhash                         1.0.10\nmypy-extensions                    0.4.3\nnamex                              0.0.8\nnbclassic                          0.5.5\nnbclient                           0.5.13\nnbconvert                          6.5.4\nnbformat                           5.7.0\nnest-asyncio                       1.5.6\nnetworkx                           3.1\nninja                              1.11.1.1\nnltk                               3.8.1\nnotebook                           6.5.4\nnotebook_shim                      0.2.2\nnumba                              0.57.1\nnumpy                              1.23.5\noauthlib                           3.2.0\noci                                2.126.4\nopenai                             1.29.0\nopencensus                         0.11.4\nopencensus-context                 0.1.3\nopentelemetry-api                  1.26.0\nopentelemetry-sdk                  1.26.0\nopentelemetry-semantic-conventions 0.47b0\nopt-einsum                         3.3.0\noptree                             0.11.0\norjson                             3.10.3\npackaging                          23.2\npandas                             1.5.3\npandocfilters                      1.5.0\nparamiko                           3.4.0\nparso                              0.8.3\npathspec                           0.10.3\npatsy                              0.5.3\npetastorm                          0.12.1\npexpect                            4.8.0\nphik                               0.12.4\npickleshare                        0.7.5\nPillow                             9.4.0\npip                                23.2.1\nplatformdirs                       3.10.0\nplotly                             5.9.0\npmdarima                           2.0.4\npooch                              1.8.1\nportalocker                        2.8.2\npreshed                            3.0.9\nprometheus-client                  0.14.1\nprompt-toolkit                     3.0.36\nprophet                            1.1.5\nproto-plus                         1.23.0\nprotobuf                           4.24.1\npsutil                             5.9.0\npsycopg2                           2.9.3\nptyprocess                         0.7.0\npure-eval                          0.2.2\npy-cpuinfo                         8.0.0\npy-spy                             0.3.14\npyarrow                            14.0.1\npyarrow-hotfix                     0.6\npyasn1                             0.4.8\npyasn1-modules                     0.2.8\npybind11                           2.12.0\npyccolo                            0.0.52\npycparser                          2.21\npydantic                           1.10.6\nPygments                           2.15.1\nPyGObject                          3.42.1\nPyJWT                              2.3.0\nPyNaCl                             1.5.0\npynvml                             11.5.0\npyodbc                             4.0.38\npyOpenSSL                          23.2.0\npyparsing                          3.0.9\npyrsistent                         0.18.0\npytesseract                        0.3.10\npython-apt                         2.4.0+ubuntu3\npython-dateutil                    2.8.2\npython-editor                      1.0.4\npython-lsp-jsonrpc                 1.1.1\npython-snappy                      0.6.1\npytz                               2022.7\nPyWavelets                         1.4.1\nPyYAML                             6.0\npyzmq                              23.2.0\nquerystring-parser                 1.2.4\nray                                2.12.0\nregex                              2022.7.9\nrequests                           2.31.0\nrequests-oauthlib                  1.3.1\nrich                               13.7.1\nrsa                                4.9\ns3transfer                         0.10.1\nsafetensors                        0.4.2\nscikit-image                       0.20.0\nscikit-learn                       1.3.0\nscipy                              1.11.1\nseaborn                            0.12.2\nSecretStorage                      3.3.1\nSend2Trash                         1.8.0\nsentence-transformers              2.7.0\nsentencepiece                      0.1.99\nsetuptools                         68.0.0\nshap                               0.44.0\nsimplejson                         3.17.6\nsix                                1.16.0\nslicer                             0.0.7\nsmart-open                         5.2.1\nsmmap                              5.0.0\nsniffio                            1.2.0\nsoundfile                          0.12.1\nsoupsieve                          2.4\nsoxr                               0.3.7\nspacy                              3.7.2\nspacy-legacy                       3.0.12\nspacy-loggers                      1.0.5\nspark-tensorflow-distributor       1.0.0\nSQLAlchemy                         1.4.39\nsqlparse                           0.4.2\nsrsly                              2.4.8\nssh-import-id                      5.11\nstack-data                         0.2.0\nstanio                             0.5.0\nstatsmodels                        0.14.0\nsympy                              1.11.1\ntangled-up-in-unicode              0.2.0\ntenacity                           8.2.2\ntensorboard                        2.16.2\ntensorboard-data-server            0.7.2\ntensorboard_plugin_profile         2.15.1\ntensorboardX                       2.6.2.2\ntensorflow                         2.16.1\ntensorflow-estimator               2.15.0\ntensorflow-io-gcs-filesystem       0.37.0\ntermcolor                          2.4.0\nterminado                          0.17.1\ntextual                            0.63.3\ntf_keras                           2.16.0\nthinc                              8.2.3\nthreadpoolctl                      2.2.0\ntifffile                           2021.7.2\ntiktoken                           0.5.2\ntinycss2                           1.2.1\ntokenize-rt                        4.2.1\ntokenizers                         0.19.0\ntorch                              2.3.0+cpu\ntorcheval                          0.0.7\ntorchvision                        0.18.0+cpu\ntornado                            6.3.2\ntqdm                               4.65.0\ntraitlets                          5.7.1\ntransformers                       4.40.2\ntypeguard                          2.13.3\ntyper                              0.9.4\ntyping_extensions                  4.10.0\ntyping-inspect                     0.9.0\ntzdata                             2022.1\nuc-micro-py                        1.0.1\nujson                              5.4.0\nunattended-upgrades                0.1\nurllib3                            1.26.16\nvirtualenv                         20.24.2\nvisions                            0.7.5\nwadllib                            1.3.6\nwasabi                             1.1.2\nwcwidth                            0.2.5\nweasel                             0.3.4\nwebencodings                       0.5.1\nwebsocket-client                   0.58.0\nWerkzeug                           2.2.3\nwheel                              0.38.4\nwordcloud                          1.9.3\nwrapt                              1.14.1\nxgboost                            2.0.3\nxxhash                             3.4.1\nyarl                               1.8.1\nydata-profiling                    4.5.1\nzipp                               3.11.0\nzstd                               1.5.5.1\n"
     ]
    }
   ],
   "source": [
    "%pip list"
   ]
  },
  {
   "cell_type": "code",
   "execution_count": 0,
   "metadata": {
    "application/vnd.databricks.v1+cell": {
     "cellMetadata": {
      "byteLimit": 2048000,
      "rowLimit": 10000
     },
     "inputWidgets": {},
     "nuid": "710442df-9813-4d57-9468-84394f188478",
     "showTitle": false,
     "title": ""
    }
   },
   "outputs": [],
   "source": [
    "db=load_diabetes()\n",
    "x=db.data\n",
    "y=db.target\n",
    "x_train,x_test,y_train,y_test=train_test_split(x,y)"
   ]
  },
  {
   "cell_type": "code",
   "execution_count": 0,
   "metadata": {
    "application/vnd.databricks.v1+cell": {
     "cellMetadata": {
      "byteLimit": 2048000,
      "rowLimit": 10000
     },
     "inputWidgets": {},
     "nuid": "767f247b-6bbf-41cb-b699-54ada09332cc",
     "showTitle": false,
     "title": ""
    }
   },
   "outputs": [
    {
     "output_type": "execute_result",
     "data": {
      "text/plain": [
       "((442, 10), (442,))"
      ]
     },
     "execution_count": 5,
     "metadata": {},
     "output_type": "execute_result"
    }
   ],
   "source": [
    "x.shape,y.shape"
   ]
  },
  {
   "cell_type": "code",
   "execution_count": 0,
   "metadata": {
    "application/vnd.databricks.v1+cell": {
     "cellMetadata": {
      "byteLimit": 2048000,
      "rowLimit": 10000
     },
     "inputWidgets": {},
     "nuid": "64488d59-2d3f-415f-9cc8-fc656bf904cc",
     "showTitle": false,
     "title": ""
    }
   },
   "outputs": [
    {
     "output_type": "execute_result",
     "data": {
      "text/plain": [
       "array([[ 0.03807591,  0.05068012,  0.06169621, ..., -0.00259226,\n",
       "         0.01990749, -0.01764613],\n",
       "       [-0.00188202, -0.04464164, -0.05147406, ..., -0.03949338,\n",
       "        -0.06833155, -0.09220405],\n",
       "       [ 0.08529891,  0.05068012,  0.04445121, ..., -0.00259226,\n",
       "         0.00286131, -0.02593034],\n",
       "       ...,\n",
       "       [ 0.04170844,  0.05068012, -0.01590626, ..., -0.01107952,\n",
       "        -0.04688253,  0.01549073],\n",
       "       [-0.04547248, -0.04464164,  0.03906215, ...,  0.02655962,\n",
       "         0.04452873, -0.02593034],\n",
       "       [-0.04547248, -0.04464164, -0.0730303 , ..., -0.03949338,\n",
       "        -0.00422151,  0.00306441]])"
      ]
     },
     "execution_count": 6,
     "metadata": {},
     "output_type": "execute_result"
    }
   ],
   "source": [
    "x"
   ]
  },
  {
   "cell_type": "code",
   "execution_count": 0,
   "metadata": {
    "application/vnd.databricks.v1+cell": {
     "cellMetadata": {
      "byteLimit": 2048000,
      "rowLimit": 10000
     },
     "inputWidgets": {},
     "nuid": "3068235c-c637-4a9d-9c2a-2890925f6302",
     "showTitle": false,
     "title": ""
    }
   },
   "outputs": [
    {
     "output_type": "execute_result",
     "data": {
      "text/plain": [
       "array([151.,  75., 141., 206., 135.,  97., 138.,  63., 110., 310., 101.,\n",
       "        69., 179., 185., 118., 171., 166., 144.,  97., 168.,  68.,  49.,\n",
       "        68., 245., 184., 202., 137.,  85., 131., 283., 129.,  59., 341.,\n",
       "        87.,  65., 102., 265., 276., 252.,  90., 100.,  55.,  61.,  92.,\n",
       "       259.,  53., 190., 142.,  75., 142., 155., 225.,  59., 104., 182.,\n",
       "       128.,  52.,  37., 170., 170.,  61., 144.,  52., 128.,  71., 163.,\n",
       "       150.,  97., 160., 178.,  48., 270., 202., 111.,  85.,  42., 170.,\n",
       "       200., 252., 113., 143.,  51.,  52., 210.,  65., 141.,  55., 134.,\n",
       "        42., 111.,  98., 164.,  48.,  96.,  90., 162., 150., 279.,  92.,\n",
       "        83., 128., 102., 302., 198.,  95.,  53., 134., 144., 232.,  81.,\n",
       "       104.,  59., 246., 297., 258., 229., 275., 281., 179., 200., 200.,\n",
       "       173., 180.,  84., 121., 161.,  99., 109., 115., 268., 274., 158.,\n",
       "       107.,  83., 103., 272.,  85., 280., 336., 281., 118., 317., 235.,\n",
       "        60., 174., 259., 178., 128.,  96., 126., 288.,  88., 292.,  71.,\n",
       "       197., 186.,  25.,  84.,  96., 195.,  53., 217., 172., 131., 214.,\n",
       "        59.,  70., 220., 268., 152.,  47.,  74., 295., 101., 151., 127.,\n",
       "       237., 225.,  81., 151., 107.,  64., 138., 185., 265., 101., 137.,\n",
       "       143., 141.,  79., 292., 178.,  91., 116.,  86., 122.,  72., 129.,\n",
       "       142.,  90., 158.,  39., 196., 222., 277.,  99., 196., 202., 155.,\n",
       "        77., 191.,  70.,  73.,  49.,  65., 263., 248., 296., 214., 185.,\n",
       "        78.,  93., 252., 150.,  77., 208.,  77., 108., 160.,  53., 220.,\n",
       "       154., 259.,  90., 246., 124.,  67.,  72., 257., 262., 275., 177.,\n",
       "        71.,  47., 187., 125.,  78.,  51., 258., 215., 303., 243.,  91.,\n",
       "       150., 310., 153., 346.,  63.,  89.,  50.,  39., 103., 308., 116.,\n",
       "       145.,  74.,  45., 115., 264.,  87., 202., 127., 182., 241.,  66.,\n",
       "        94., 283.,  64., 102., 200., 265.,  94., 230., 181., 156., 233.,\n",
       "        60., 219.,  80.,  68., 332., 248.,  84., 200.,  55.,  85.,  89.,\n",
       "        31., 129.,  83., 275.,  65., 198., 236., 253., 124.,  44., 172.,\n",
       "       114., 142., 109., 180., 144., 163., 147.,  97., 220., 190., 109.,\n",
       "       191., 122., 230., 242., 248., 249., 192., 131., 237.,  78., 135.,\n",
       "       244., 199., 270., 164.,  72.,  96., 306.,  91., 214.,  95., 216.,\n",
       "       263., 178., 113., 200., 139., 139.,  88., 148.,  88., 243.,  71.,\n",
       "        77., 109., 272.,  60.,  54., 221.,  90., 311., 281., 182., 321.,\n",
       "        58., 262., 206., 233., 242., 123., 167.,  63., 197.,  71., 168.,\n",
       "       140., 217., 121., 235., 245.,  40.,  52., 104., 132.,  88.,  69.,\n",
       "       219.,  72., 201., 110.,  51., 277.,  63., 118.,  69., 273., 258.,\n",
       "        43., 198., 242., 232., 175.,  93., 168., 275., 293., 281.,  72.,\n",
       "       140., 189., 181., 209., 136., 261., 113., 131., 174., 257.,  55.,\n",
       "        84.,  42., 146., 212., 233.,  91., 111., 152., 120.,  67., 310.,\n",
       "        94., 183.,  66., 173.,  72.,  49.,  64.,  48., 178., 104., 132.,\n",
       "       220.,  57.])"
      ]
     },
     "execution_count": 7,
     "metadata": {},
     "output_type": "execute_result"
    }
   ],
   "source": [
    "y"
   ]
  },
  {
   "cell_type": "code",
   "execution_count": 0,
   "metadata": {
    "application/vnd.databricks.v1+cell": {
     "cellMetadata": {
      "byteLimit": 2048000,
      "rowLimit": 10000
     },
     "inputWidgets": {},
     "nuid": "f77419ce-02ab-42fc-b177-e117f933b506",
     "showTitle": false,
     "title": ""
    }
   },
   "outputs": [],
   "source": [
    "#Log parameters in regression model\n",
    "\n",
    "#Enable autolog\n",
    "\n",
    "mlflow.sklearn.autolog()"
   ]
  },
  {
   "cell_type": "code",
   "execution_count": 0,
   "metadata": {
    "application/vnd.databricks.v1+cell": {
     "cellMetadata": {
      "byteLimit": 2048000,
      "rowLimit": 10000
     },
     "inputWidgets": {},
     "nuid": "f7a7f634-ec67-47c2-b5e4-f3c89a277415",
     "showTitle": false,
     "title": ""
    }
   },
   "outputs": [
    {
     "output_type": "stream",
     "name": "stderr",
     "output_type": "stream",
     "text": [
      "2024/08/17 05:07:54 INFO mlflow.tracking._tracking_service.client: 🏃 View run redolent-rook-57 at: https://asia-south1.gcp.databricks.com/ml/experiments/990579504779622/runs/6dd6948e710f48eaab978ea56c3283df.\n2024/08/17 05:07:54 INFO mlflow.tracking._tracking_service.client: 🧪 View experiment at: https://asia-south1.gcp.databricks.com/ml/experiments/990579504779622.\n2024/08/17 05:07:55 INFO mlflow.utils.autologging_utils: Created MLflow autologging run with ID '9ae1e7c97b434e5c995e24abaa85d167', which will track hyperparameters, performance metrics, model artifacts, and lineage information for the current sklearn workflow\n2024/08/17 05:08:00 WARNING mlflow.utils.autologging_utils: MLflow autologging encountered a warning: \"/databricks/python/lib/python3.11/site-packages/_distutils_hack/__init__.py:33: UserWarning: Setuptools is replacing distutils.\"\n"
     ]
    },
    {
     "output_type": "display_data",
     "data": {
      "application/vnd.jupyter.widget-view+json": {
       "model_id": "c6853121146f4c9b8eef0f054ecb5c8e",
       "version_major": 2,
       "version_minor": 0
      },
      "text/plain": [
       "Uploading artifacts:   0%|          | 0/9 [00:00<?, ?it/s]"
      ]
     },
     "metadata": {},
     "output_type": "display_data"
    },
    {
     "output_type": "stream",
     "name": "stderr",
     "output_type": "stream",
     "text": [
      "2024/08/17 05:08:05 INFO mlflow.tracking._tracking_service.client: 🏃 View run worried-ram-55 at: https://asia-south1.gcp.databricks.com/ml/experiments/990579504779622/runs/9ae1e7c97b434e5c995e24abaa85d167.\n2024/08/17 05:08:05 INFO mlflow.tracking._tracking_service.client: 🧪 View experiment at: https://asia-south1.gcp.databricks.com/ml/experiments/990579504779622.\n"
     ]
    }
   ],
   "source": [
    "with mlflow.start_run():\n",
    "  n_estimators=100\n",
    "  max_depth=6\n",
    "  max_features=3\n",
    "\n",
    "# Creat and train model\n",
    "\n",
    "rf=RandomForestRegressor(n_estimators=n_estimators,max_depth=max_depth,max_features=max_features)\n",
    "rf.fit(x_train,y_train)\n",
    "predictions=rf.predict(x_test)"
   ]
  }
 ],
 "metadata": {
  "application/vnd.databricks.v1+notebook": {
   "dashboards": [],
   "environmentMetadata": null,
   "language": "python",
   "notebookMetadata": {
    "pythonIndentUnit": 4
   },
   "notebookName": "ML FLOW Notebook 2024-08-17 09:45:02",
   "widgets": {}
  }
 },
 "nbformat": 4,
 "nbformat_minor": 0
}
