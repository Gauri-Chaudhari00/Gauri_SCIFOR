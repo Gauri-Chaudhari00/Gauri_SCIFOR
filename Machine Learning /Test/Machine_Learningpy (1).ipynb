{
  "nbformat": 4,
  "nbformat_minor": 0,
  "metadata": {
    "colab": {
      "provenance": []
    },
    "kernelspec": {
      "name": "python3",
      "display_name": "Python 3"
    },
    "language_info": {
      "name": "python"
    }
  },
  "cells": [
    {
      "cell_type": "code",
      "source": [
        "#Take any dataset from kaggle and handling missing values.\n",
        "#After removing missing values, from the same dataset - draw bar chart, pie chart, line chart, histogram\n",
        "#What's the use of pandas, numpy, seaborn, matplotlib, OS library in python\n",
        "\n",
        "import pandas as pd\n",
        "import numpy as np\n",
        "import seaborn as sns\n",
        "import matplotlib.pyplot as plt\n",
        "# Load the dataset\n",
        "file_path = 'C:\\Users\\MAC\\Downloads\\New folder.csv'\n",
        "data = pd.read_csv(file_path)\n",
        "\n",
        "# Remove rows with missing values\n",
        "cleaned_data = data.dropna()\n",
        "\n",
        "# Bar Chart: Average Price Per Day by Star Rating\n",
        "plt.figure(figsize=(10, 6))\n",
        "cleaned_data.groupby('Star Rating')['Price Per Day($)'].mean().plot(kind='bar')\n",
        "plt.title('Average Price Per Day by Star Rating')\n",
        "plt.xlabel('Star Rating')\n",
        "plt.ylabel('Average Price Per Day ($)')\n",
        "plt.show()\n",
        "\n",
        "# Pie Chart: Distribution of Free Parking\n",
        "plt.figure(figsize=(8, 8))\n",
        "cleaned_data['Free Parking'].value_counts().plot(kind='pie', autopct='%1.1f%%', startangle=90)\n",
        "plt.title('Distribution of Free Parking')\n",
        "plt.ylabel('')\n",
        "plt.show()\n",
        "\n",
        "# Line Chart: Rating Trend for Hotels\n",
        "plt.figure(figsize=(12, 6))\n",
        "plt.plot(cleaned_data['Hotel Names'], cleaned_data['Rating'], marker='o')\n",
        "plt.xticks(rotation=90)\n",
        "plt.title('Rating Trend for Hotels')\n",
        "plt.xlabel('Hotel Names')\n",
        "plt.ylabel('Rating')\n",
        "plt.grid(True)\n",
        "plt.show()\n",
        "\n",
        "# Histogram: Distribution of Prices Per Day\n",
        "plt.figure(figsize=(10, 6))\n",
        "cleaned_data['Price Per Day($)'].plot(kind='hist', bins=10)\n",
        "plt.title('Distribution of Prices Per Day')\n",
        "plt.xlabel('Price Per Day ($)')\n",
        "plt.ylabel('Frequency')\n",
        "plt.show()\n"
      ],
      "metadata": {
        "id": "pJV1pARcTFbi"
      },
      "execution_count": null,
      "outputs": []
    }
  ]
}